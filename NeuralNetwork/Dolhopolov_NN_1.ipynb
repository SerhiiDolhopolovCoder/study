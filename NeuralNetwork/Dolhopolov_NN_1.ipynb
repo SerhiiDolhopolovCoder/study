{
 "cells": [
  {
   "cell_type": "markdown",
   "metadata": {
    "vscode": {
     "languageId": "raw"
    }
   },
   "source": [
    "## Сергій Долгополов"
   ]
  },
  {
   "cell_type": "markdown",
   "metadata": {
    "id": "__iXqqz-ioUJ"
   },
   "source": [
    "### 1. Створіть випадковий тензор форми `(7, 7)`.\n"
   ]
  },
  {
   "cell_type": "code",
   "execution_count": 1,
   "metadata": {
    "id": "6pUq9Dc8i2L7"
   },
   "outputs": [
    {
     "name": "stdout",
     "output_type": "stream",
     "text": [
      "tensor([[0.3376, 0.3622, 0.7045, 0.3352, 0.1177, 0.7495, 0.7537],\n",
      "        [0.4029, 0.3799, 0.0268, 0.3593, 0.7933, 0.5102, 0.2697],\n",
      "        [0.6283, 0.7156, 0.7956, 0.0074, 0.6231, 0.2458, 0.0341],\n",
      "        [0.2521, 0.5632, 0.6259, 0.5237, 0.8618, 0.2754, 0.3703],\n",
      "        [0.0771, 0.9895, 0.0748, 0.4733, 0.2967, 0.2555, 0.9152],\n",
      "        [0.1998, 0.0439, 0.8445, 0.2375, 0.6140, 0.6498, 0.2727],\n",
      "        [0.6567, 0.8518, 0.8292, 0.2198, 0.9471, 0.9528, 0.6690]],\n",
      "       device='cuda:0')\n"
     ]
    }
   ],
   "source": [
    "import torch\n",
    "device = torch.device(\"cuda\" if torch.cuda.is_available() else \"cpu\")\n",
    "\n",
    "# Create random tensor\n",
    "tensor1 = torch.rand(7, 7, device=device)\n",
    "print(tensor1)"
   ]
  },
  {
   "cell_type": "markdown",
   "metadata": {
    "id": "9-XxvRLfiqkR"
   },
   "source": [
    "### 2. Виконайте матричне множенні для тензора з 1 завдання і випадкового тензора форми `(1, 7)` (за необхідності, транспонуйте другий тензор)."
   ]
  },
  {
   "cell_type": "code",
   "execution_count": 2,
   "metadata": {
    "id": "NcLqR0Sbi_vT"
   },
   "outputs": [
    {
     "name": "stdout",
     "output_type": "stream",
     "text": [
      "tensor([[2.0523],\n",
      "        [1.8118],\n",
      "        [1.8376],\n",
      "        [2.0360],\n",
      "        [1.9664],\n",
      "        [1.7847],\n",
      "        [3.3894]], device='cuda:0')\n"
     ]
    }
   ],
   "source": [
    "# Create another random tensor\n",
    "tensor2 = torch.rand(1, 7, device=device)\n",
    "# Perform matrix multiplication \n",
    "print(tensor1 @ tensor2.T)"
   ]
  },
  {
   "cell_type": "markdown",
   "metadata": {
    "id": "eiutdKUFiryU"
   },
   "source": [
    "### 3. Встановіть random seed в `0` і виконайте завдання 1 і 2 знову."
   ]
  },
  {
   "cell_type": "code",
   "execution_count": 8,
   "metadata": {
    "id": "D-lOWI_1jRMm"
   },
   "outputs": [
    {
     "name": "stdout",
     "output_type": "stream",
     "text": [
      "tensor([[2.0534],\n",
      "        [2.3578],\n",
      "        [1.8793],\n",
      "        [1.6912],\n",
      "        [2.5042],\n",
      "        [2.0659],\n",
      "        [1.9022]], device='cuda:0')\n"
     ]
    }
   ],
   "source": [
    "# Set manual seed\n",
    "torch.manual_seed(0)\n",
    "\n",
    "# Create two random tensors\n",
    "tensor1 = torch.rand(7, 7, device=device)\n",
    "tensor2 = torch.rand(1, 7, device=device)\n",
    "\n",
    "# Matrix multiply tensors\n",
    "tensor3 = tensor1 @ tensor2.T\n",
    "print(tensor3)"
   ]
  },
  {
   "cell_type": "markdown",
   "metadata": {
    "id": "G7qfa5CSivwg"
   },
   "source": [
    "### 4. Знайдіть максимальне і мінімальне значення у виході 3 завдання."
   ]
  },
  {
   "cell_type": "code",
   "execution_count": 9,
   "metadata": {
    "id": "Fu8_3mZpllOd"
   },
   "outputs": [
    {
     "name": "stdout",
     "output_type": "stream",
     "text": [
      "tensor(2.5042, device='cuda:0')\n",
      "tensor(1.6912, device='cuda:0')\n"
     ]
    }
   ],
   "source": [
    "# Find max\n",
    "print(tensor3.max())\n",
    "# Find min\n",
    "print(tensor3.min())"
   ]
  },
  {
   "cell_type": "markdown",
   "metadata": {
    "id": "wrTj5FgNiw47"
   },
   "source": [
    "### 5. Знайдіть індекси максимального і мінімального значення у виході 3 завдання."
   ]
  },
  {
   "cell_type": "code",
   "execution_count": null,
   "metadata": {
    "id": "CCEKt4K2lsfQ"
   },
   "outputs": [],
   "source": [
    "# Find arg max\n",
    "print(tensor3.argmax())\n",
    "\n",
    "# Find arg min\n",
    "print(tensor3.argmin())"
   ]
  },
  {
   "cell_type": "markdown",
   "metadata": {
    "id": "hmeybz4uixy7"
   },
   "source": [
    "\n",
    "### 6. Створіть випадковий тензор форми `(1, 1, 1, 10)`. Потім з нього створіть новий тензор, у якого вилучено всі одиничні розмірності. При створенні тензору встановіть seed рівним `7`. Надрукуйте перший і другий тензори і їхню форму."
   ]
  },
  {
   "cell_type": "code",
   "execution_count": 13,
   "metadata": {
    "id": "TQ9zbRzVl1jV"
   },
   "outputs": [
    {
     "name": "stdout",
     "output_type": "stream",
     "text": [
      "tensor([[[[0.9546, 0.4950, 0.9420, 0.5926, 0.6996, 0.2087, 0.6753, 0.4810,\n",
      "           0.6333, 0.5733]]]], device='cuda:0')\n",
      "torch.Size([1, 1, 1, 10])\n",
      "tensor([0.9546, 0.4950, 0.9420, 0.5926, 0.6996, 0.2087, 0.6753, 0.4810, 0.6333,\n",
      "        0.5733], device='cuda:0')\n",
      "torch.Size([10])\n"
     ]
    }
   ],
   "source": [
    "# Set seed\n",
    "torch.manual_seed(7)\n",
    "\n",
    "# Create random tensor\n",
    "tensor4 = torch.rand(1, 1, 1, 10, device=device)\n",
    "print(tensor4)\n",
    "print(tensor4.shape)\n",
    "# Remove single dimensions\n",
    "tensor5 = torch.squeeze(tensor4)\n",
    "print(tensor5)\n",
    "print(tensor5.shape)\n",
    "# Print out tensors and their shapes\n"
   ]
  },
  {
   "cell_type": "code",
   "execution_count": null,
   "metadata": {},
   "outputs": [],
   "source": []
  }
 ],
 "metadata": {
  "accelerator": "GPU",
  "colab": {
   "collapsed_sections": [],
   "name": "00_pytorch_fundamentals_exercises.ipynb",
   "provenance": []
  },
  "kernelspec": {
   "display_name": ".venv",
   "language": "python",
   "name": "python3"
  },
  "language_info": {
   "codemirror_mode": {
    "name": "ipython",
    "version": 3
   },
   "file_extension": ".py",
   "mimetype": "text/x-python",
   "name": "python",
   "nbconvert_exporter": "python",
   "pygments_lexer": "ipython3",
   "version": "3.13.0"
  }
 },
 "nbformat": 4,
 "nbformat_minor": 4
}

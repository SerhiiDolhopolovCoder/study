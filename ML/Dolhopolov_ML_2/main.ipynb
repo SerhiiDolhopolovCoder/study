{
 "cells": [
  {
   "cell_type": "code",
   "execution_count": 1,
   "metadata": {},
   "outputs": [],
   "source": [
    "import pandas as pd\n",
    "import matplotlib.pyplot as plt\n",
    "import plotly.express as px\n"
   ]
  },
  {
   "cell_type": "code",
   "execution_count": 2,
   "metadata": {},
   "outputs": [],
   "source": [
    "from features.titanic_feature_builder import TitanicFeatureBuilder"
   ]
  },
  {
   "cell_type": "code",
   "execution_count": 3,
   "metadata": {},
   "outputs": [],
   "source": [
    "titanic = TitanicFeatureBuilder(pd.read_csv('Titanic.csv'))"
   ]
  },
  {
   "cell_type": "code",
   "execution_count": 4,
   "metadata": {},
   "outputs": [
    {
     "name": "stdout",
     "output_type": "stream",
     "text": []
    }
   ],
   "source": [
    "titanic.df.head()"
   ]
  },
  {
   "cell_type": "code",
   "execution_count": 5,
   "metadata": {},
   "outputs": [
    {
     "name": "stdout",
     "output_type": "stream",
     "text": []
    }
   ],
   "source": [
    "titanic.df.info()"
   ]
  },
  {
   "cell_type": "code",
   "execution_count": 6,
   "metadata": {},
   "outputs": [
    {
     "name": "stdout",
     "output_type": "stream",
     "text": []
    }
   ],
   "source": [
    "titanic.df['Age'].head()"
   ]
  },
  {
   "cell_type": "markdown",
   "metadata": {},
   "source": [
    "## Sex to male"
   ]
  },
  {
   "cell_type": "code",
   "execution_count": 7,
   "metadata": {},
   "outputs": [
    {
     "name": "stdout",
     "output_type": "stream",
     "text": []
    }
   ],
   "source": [
    "titanic.sex_to_male()\n",
    "titanic.df.head()"
   ]
  },
  {
   "cell_type": "markdown",
   "metadata": {},
   "source": [
    "## Embarked encode"
   ]
  },
  {
   "cell_type": "code",
   "execution_count": 8,
   "metadata": {},
   "outputs": [
    {
     "name": "stdout",
     "output_type": "stream",
     "text": []
    }
   ],
   "source": [
    "print(titanic.df['Embarked'].unique())\n",
    "print(titanic.df['Embarked'].value_counts())\n",
    "titanic.fill_embarked()\n",
    "print(titanic.df['Embarked'].unique())\n",
    "print(titanic.df['Embarked'].value_counts())"
   ]
  },
  {
   "cell_type": "code",
   "execution_count": 9,
   "metadata": {},
   "outputs": [
    {
     "name": "stdout",
     "output_type": "stream",
     "text": []
    }
   ],
   "source": [
    "# ендокінг в hot-endoding без dummy-trap\n",
    "titanic.encode_embarked()\n",
    "titanic.df.head()"
   ]
  },
  {
   "cell_type": "markdown",
   "metadata": {},
   "source": [
    "# Add missing (без embarked)"
   ]
  },
  {
   "cell_type": "code",
   "execution_count": 10,
   "metadata": {},
   "outputs": [
    {
     "name": "stdout",
     "output_type": "stream",
     "text": []
    }
   ],
   "source": [
    "titanic.add_missing()\n",
    "titanic.df.isnull().sum()"
   ]
  },
  {
   "cell_type": "markdown",
   "metadata": {},
   "source": [
    "# Name to status"
   ]
  },
  {
   "cell_type": "code",
   "execution_count": 11,
   "metadata": {},
   "outputs": [
    {
     "name": "stdout",
     "output_type": "stream",
     "text": []
    }
   ],
   "source": [
    "# Бачимо що всі значення мають певний патерн, де можна побачити статус між , та .\n",
    "# Одна запись з графинею не відповідає цьому патерну, для неї застосуємо додатковий патеррн\n",
    "titanic.df['Name'].value_counts().head()"
   ]
  },
  {
   "cell_type": "code",
   "execution_count": 12,
   "metadata": {},
   "outputs": [
    {
     "name": "stdout",
     "output_type": "stream",
     "text": []
    }
   ],
   "source": [
    "titanic.add_status_by_name()\n",
    "titanic.df.Status.value_counts()\n",
    "# Спробуємо поділити статуси по тутулу/ролі на такі групи:\n",
    "# діти, цивільні, еліта(титульні), special (екіпаж, або військові. Доктори не входять в категорію, бо: \n",
    "# 1. Не має інформації доктори наук чи звичайні \n",
    "# 2. За інформацією, під час удару не було травм для людей та під час затоплення допомога докторів \n",
    "# не така значуща, тому вони діють як цивільні)"
   ]
  },
  {
   "cell_type": "code",
   "execution_count": 13,
   "metadata": {},
   "outputs": [
    {
     "name": "stdout",
     "output_type": "stream",
     "text": []
    }
   ],
   "source": [
    "titanic.add_role_by_status()\n",
    "survival_rates = titanic.df.groupby(\"Role\").agg(Survived=('Survived', 'mean')).reset_index()\n",
    "fig = px.histogram(survival_rates, x=\"Role\", y=\"Survived\", histnorm=\"probability\")\n",
    "fig.show()\n",
    "# Розподіл показує, що діти та еліта мали більше шанс вижити"
   ]
  },
  {
   "cell_type": "code",
   "execution_count": 14,
   "metadata": {},
   "outputs": [
    {
     "name": "stdout",
     "output_type": "stream",
     "text": []
    }
   ],
   "source": [
    "titanic.encode_role()\n",
    "titanic.df.head()"
   ]
  },
  {
   "cell_type": "markdown",
   "metadata": {},
   "source": [
    "# Fill age by median"
   ]
  },
  {
   "cell_type": "code",
   "execution_count": 15,
   "metadata": {},
   "outputs": [
    {
     "name": "stdout",
     "output_type": "stream",
     "text": []
    }
   ],
   "source": [
    "titanic.df.groupby(['Status']).aggregate(mean_age=('Age', 'median'))"
   ]
  },
  {
   "cell_type": "code",
   "execution_count": 16,
   "metadata": {},
   "outputs": [
    {
     "name": "stdout",
     "output_type": "stream",
     "text": []
    }
   ],
   "source": [
    "titanic.fill_age()\n",
    "titanic.df.head()"
   ]
  },
  {
   "cell_type": "code",
   "execution_count": 17,
   "metadata": {},
   "outputs": [
    {
     "name": "stdout",
     "output_type": "stream",
     "text": []
    }
   ],
   "source": [
    "titanic.df['Age'].isnull().sum()"
   ]
  },
  {
   "cell_type": "code",
   "execution_count": 18,
   "metadata": {},
   "outputs": [
    {
     "name": "stdout",
     "output_type": "stream",
     "text": []
    },
    {
     "name": "stdout",
     "output_type": "stream",
     "text": []
    }
   ],
   "source": [
    "titanic.df['Age'].hist()"
   ]
  },
  {
   "cell_type": "markdown",
   "metadata": {},
   "source": [
    "# Cabin"
   ]
  },
  {
   "cell_type": "code",
   "execution_count": 19,
   "metadata": {},
   "outputs": [
    {
     "name": "stdout",
     "output_type": "stream",
     "text": []
    }
   ],
   "source": [
    "print(titanic.df['Cabin'].value_counts())\n",
    "print(titanic.df['Cabin'].isnull().sum())"
   ]
  },
  {
   "cell_type": "markdown",
   "metadata": {},
   "source": [
    "## Каюту можна спробувати заповнити за номером класу, для цього спочатку продивимость всі значення кают"
   ]
  },
  {
   "cell_type": "code",
   "execution_count": 20,
   "metadata": {},
   "outputs": [
    {
     "name": "stdout",
     "output_type": "stream",
     "text": []
    }
   ],
   "source": [
    "titanic.df.info()"
   ]
  },
  {
   "cell_type": "code",
   "execution_count": 21,
   "metadata": {},
   "outputs": [
    {
     "name": "stdout",
     "output_type": "stream",
     "text": []
    }
   ],
   "source": [
    "titanic.split_cabins()\n",
    "titanic.df.head()"
   ]
  },
  {
   "cell_type": "code",
   "execution_count": 22,
   "metadata": {},
   "outputs": [
    {
     "name": "stdout",
     "output_type": "stream",
     "text": []
    }
   ],
   "source": [
    "','.join(titanic.df.query('Pclass == 1').loc[:, 'Cabin'].dropna().drop_duplicates().astype(str))"
   ]
  },
  {
   "cell_type": "code",
   "execution_count": 23,
   "metadata": {},
   "outputs": [
    {
     "name": "stdout",
     "output_type": "stream",
     "text": []
    }
   ],
   "source": [
    "','.join(titanic.df.query('Pclass == 2').loc[:, 'Cabin'].dropna().drop_duplicates().astype(str))"
   ]
  },
  {
   "cell_type": "code",
   "execution_count": 24,
   "metadata": {},
   "outputs": [
    {
     "name": "stdout",
     "output_type": "stream",
     "text": []
    }
   ],
   "source": [
    "','.join(titanic.df.query('Pclass == 3').loc[:, 'Cabin'].dropna().drop_duplicates().astype(str))"
   ]
  },
  {
   "cell_type": "code",
   "execution_count": 25,
   "metadata": {},
   "outputs": [
    {
     "name": "stdout",
     "output_type": "stream",
     "text": []
    }
   ],
   "source": [
    "fig = px.histogram(titanic.df, x=\"Pclass\", color=\"Deck\")\n",
    "fig.show()"
   ]
  },
  {
   "cell_type": "code",
   "execution_count": 26,
   "metadata": {},
   "outputs": [],
   "source": [
    "# Бачимо, що: \n",
    "# E є в усіх класах, \n",
    "# D є в 1 та 2 класі\n",
    "# F є в 2 та 3 класі\n",
    "\n",
    "# A, B, C, T тільки в 1 класу,     оскільки кілька варіантів, заповніти не вийде\n",
    "# G тільки в 3 класу, тому спробуємо заповнювати,            малий приріст інформації\n",
    "\n",
    "# Можна спробувати знайти закономірність між ціною та палублю"
   ]
  },
  {
   "cell_type": "code",
   "execution_count": 27,
   "metadata": {},
   "outputs": [
    {
     "name": "stdout",
     "output_type": "stream",
     "text": []
    }
   ],
   "source": [
    "fig = px.histogram(titanic.df, x=\"Fare\", color=\"Deck\", nbins=10)\n",
    "fig.show()\n",
    "\n",
    "# Як результат, бачимо, що немає чіткої закономірності між ціною квитка та палубою, отже позначимо всі невідомі палуби як unknown\n",
    "# Палуба T має лише 1 елемент, тому спочатку подивимость на цей елемент"
   ]
  },
  {
   "cell_type": "code",
   "execution_count": 28,
   "metadata": {},
   "outputs": [
    {
     "name": "stdout",
     "output_type": "stream",
     "text": []
    }
   ],
   "source": [
    "# Чогось особливого в елементу немає, оскільки елемент 1 з такою палубою кинемо каюту в unknown\n",
    "titanic.df.query('Deck == \"T\"')"
   ]
  },
  {
   "cell_type": "code",
   "execution_count": 29,
   "metadata": {},
   "outputs": [
    {
     "name": "stdout",
     "output_type": "stream",
     "text": []
    }
   ],
   "source": [
    "titanic.fill_decks()\n",
    "titanic.df['Deck'].value_counts()"
   ]
  },
  {
   "cell_type": "code",
   "execution_count": 30,
   "metadata": {},
   "outputs": [
    {
     "name": "stdout",
     "output_type": "stream",
     "text": []
    }
   ],
   "source": [
    "titanic.encode_decks()\n",
    "titanic.df.head()"
   ]
  },
  {
   "cell_type": "markdown",
   "metadata": {},
   "source": [
    "# Age та Fare to bins"
   ]
  },
  {
   "cell_type": "code",
   "execution_count": 31,
   "metadata": {},
   "outputs": [
    {
     "name": "stdout",
     "output_type": "stream",
     "text": []
    }
   ],
   "source": [
    "fig = px.histogram(titanic.df, x=\"Age\", color=\"Survived\", nbins=20)\n",
    "fig.show()"
   ]
  },
  {
   "cell_type": "code",
   "execution_count": 32,
   "metadata": {},
   "outputs": [
    {
     "name": "stdout",
     "output_type": "stream",
     "text": []
    }
   ],
   "source": [
    "titanic.add_bins_age(drop_old=True)\n",
    "titanic.df.head()"
   ]
  },
  {
   "cell_type": "markdown",
   "metadata": {},
   "source": [
    "# Нормалізація Age та Fare"
   ]
  },
  {
   "cell_type": "code",
   "execution_count": 33,
   "metadata": {},
   "outputs": [
    {
     "name": "stdout",
     "output_type": "stream",
     "text": []
    }
   ],
   "source": [
    "fig = px.histogram(titanic.df, x=\"Fare\", color=\"Survived\", nbins=10)\n",
    "fig.show()"
   ]
  },
  {
   "cell_type": "code",
   "execution_count": 34,
   "metadata": {},
   "outputs": [
    {
     "name": "stdout",
     "output_type": "stream",
     "text": []
    }
   ],
   "source": [
    "titanic.add_bins_fare(drop_old=True)\n",
    "titanic.df.head()"
   ]
  },
  {
   "cell_type": "markdown",
   "metadata": {},
   "source": [
    "# Для алгоритму k-means важлива нормалізація"
   ]
  },
  {
   "cell_type": "code",
   "execution_count": 35,
   "metadata": {},
   "outputs": [
    {
     "name": "stdout",
     "output_type": "stream",
     "text": []
    }
   ],
   "source": [
    "titanic.normalize_age()\n",
    "titanic.df['Age'].describe()"
   ]
  },
  {
   "cell_type": "code",
   "execution_count": 36,
   "metadata": {},
   "outputs": [
    {
     "name": "stdout",
     "output_type": "stream",
     "text": []
    }
   ],
   "source": [
    "titanic.normalize_fare()\n",
    "titanic.df['Fare'].describe()"
   ]
  },
  {
   "cell_type": "markdown",
   "metadata": {},
   "source": [
    "# Що можна зробити ще"
   ]
  },
  {
   "cell_type": "code",
   "execution_count": 37,
   "metadata": {},
   "outputs": [
    {
     "name": "stdout",
     "output_type": "stream",
     "text": []
    }
   ],
   "source": [
    "# PessengerId, Name, Ticker мають високу ентропію, можна викинути\n",
    "# Cabin має багату кількість важко відновлених даних\n",
    "# Room має глибокий зв'язок з Deck, кімната більш поточнує локацію людини, але через занадто багату\n",
    "# кількість важковідновлених даних скіпну фічу\n",
    "\n",
    "# з SibSp та Parch можна вижати корисну інформацію про знаходження родин поряд\n",
    "\n",
    "titanic.df.head()"
   ]
  },
  {
   "cell_type": "markdown",
   "metadata": {},
   "source": [
    "# FamilySize (аріфметика)"
   ]
  },
  {
   "cell_type": "code",
   "execution_count": 38,
   "metadata": {},
   "outputs": [
    {
     "name": "stdout",
     "output_type": "stream",
     "text": []
    }
   ],
   "source": [
    "titanic.add_family_size()\n",
    "titanic.df.head()"
   ]
  },
  {
   "cell_type": "code",
   "execution_count": 39,
   "metadata": {},
   "outputs": [
    {
     "name": "stdout",
     "output_type": "stream",
     "text": []
    }
   ],
   "source": [
    "fig = px.histogram(titanic.df, x=\"SibSp\", color=\"Survived\")\n",
    "fig.show()"
   ]
  },
  {
   "cell_type": "code",
   "execution_count": 40,
   "metadata": {},
   "outputs": [
    {
     "name": "stdout",
     "output_type": "stream",
     "text": []
    }
   ],
   "source": [
    "survival_rates = titanic.df.groupby(\"SibSp\").agg(Survived=('Survived', 'mean')).reset_index()\n",
    "fig = px.bar(survival_rates, x=\"SibSp\", y=\"Survived\")\n",
    "fig.show()\n",
    "\n",
    "# Створимо фічі Alone, Small family(1-2) та Big family(3+)"
   ]
  },
  {
   "cell_type": "code",
   "execution_count": 41,
   "metadata": {},
   "outputs": [
    {
     "name": "stdout",
     "output_type": "stream",
     "text": []
    }
   ],
   "source": [
    "titanic.split_family_size()\n",
    "titanic.df.head()"
   ]
  },
  {
   "cell_type": "markdown",
   "metadata": {},
   "source": [
    "## SibSp"
   ]
  },
  {
   "cell_type": "code",
   "execution_count": 42,
   "metadata": {},
   "outputs": [
    {
     "name": "stdout",
     "output_type": "stream",
     "text": []
    }
   ],
   "source": [
    "titanic.df['SibSp'].describe()"
   ]
  },
  {
   "cell_type": "code",
   "execution_count": 43,
   "metadata": {},
   "outputs": [
    {
     "name": "stdout",
     "output_type": "stream",
     "text": []
    }
   ],
   "source": [
    "fig = px.histogram(titanic.df, x=\"SibSp\", color=\"Survived\")\n",
    "fig.show()\n",
    "# На гістограми бачимо, що від біна 4 до 8 надто висока смертність, але в цій області\n",
    "# надто мало даних\n",
    "# досліджу більш детально розподіл від 1 до 8"
   ]
  },
  {
   "cell_type": "code",
   "execution_count": 44,
   "metadata": {},
   "outputs": [
    {
     "name": "stdout",
     "output_type": "stream",
     "text": []
    }
   ],
   "source": [
    "survival_rates = titanic.df.groupby(\"SibSp\").agg(Survived=('Survived', 'mean')).reset_index()\n",
    "fig = px.bar(survival_rates, x=\"SibSp\", y=\"Survived\")\n",
    "fig.show()\n",
    "# Розподіл досить нерівномірний, тому зроблю хот енкодінг на: 0, 1, 2, 3, 4 та все що більше 4 буде в 4"
   ]
  },
  {
   "cell_type": "code",
   "execution_count": 45,
   "metadata": {},
   "outputs": [
    {
     "name": "stdout",
     "output_type": "stream",
     "text": []
    }
   ],
   "source": [
    "titanic.encode_sibSp()\n",
    "titanic.df.head()"
   ]
  },
  {
   "cell_type": "markdown",
   "metadata": {},
   "source": [
    "## Parch"
   ]
  },
  {
   "cell_type": "code",
   "execution_count": 46,
   "metadata": {},
   "outputs": [],
   "source": [
    "# Такий же принцип"
   ]
  },
  {
   "cell_type": "code",
   "execution_count": 47,
   "metadata": {},
   "outputs": [
    {
     "name": "stdout",
     "output_type": "stream",
     "text": []
    }
   ],
   "source": [
    "titanic.df['Parch'].describe()"
   ]
  },
  {
   "cell_type": "code",
   "execution_count": 48,
   "metadata": {},
   "outputs": [
    {
     "name": "stdout",
     "output_type": "stream",
     "text": []
    }
   ],
   "source": [
    "fig = px.histogram(titanic.df, x=\"Parch\", color=\"Survived\")\n",
    "fig.show()"
   ]
  },
  {
   "cell_type": "code",
   "execution_count": 49,
   "metadata": {},
   "outputs": [
    {
     "name": "stdout",
     "output_type": "stream",
     "text": []
    }
   ],
   "source": [
    "survival_rates = titanic.df.groupby(\"Parch\").agg(Survived=('Survived', 'mean')).reset_index()\n",
    "fig = px.bar(survival_rates, x=\"Parch\", y=\"Survived\")\n",
    "fig.show()\n",
    "# в людей з дітьми досить великий шанс вижити, можливо це реклама демографії від творця датасету, але\n",
    "# сумніваюсь\n",
    "# в бінах 3 - 6 досить мало значень та важко сказати як точно вони заповнювались, бо бін 6 має \n",
    "# n записів 1, бін 5 має 5, а бін 4 має 4 записи. Скоріше за все, бін 6 - помилка запису\n",
    "# Тому в цей раз через досить велику різницю даних між тими хто має дітей та тими, хто не має\n",
    "# Я зроблю фічу child-parent"
   ]
  },
  {
   "cell_type": "code",
   "execution_count": 50,
   "metadata": {},
   "outputs": [
    {
     "name": "stdout",
     "output_type": "stream",
     "text": []
    }
   ],
   "source": [
    "titanic.parch_to_child_parent()\n",
    "titanic.df.head()"
   ]
  },
  {
   "cell_type": "code",
   "execution_count": 51,
   "metadata": {},
   "outputs": [
    {
     "name": "stdout",
     "output_type": "stream",
     "text": []
    }
   ],
   "source": [
    "titanic.df['Child_Parent'].value_counts()"
   ]
  },
  {
   "cell_type": "markdown",
   "metadata": {},
   "source": [
    "# Кореляція"
   ]
  },
  {
   "cell_type": "code",
   "execution_count": 52,
   "metadata": {},
   "outputs": [
    {
     "name": "stdout",
     "output_type": "stream",
     "text": []
    }
   ],
   "source": [
    "titanic.df.corr(numeric_only=True) \n",
    "# Cabin_missing досить корельована з Pclass(0.725) та з Deck_unknown(0.966), викину її\n",
    "# Fare_bins досить корельован з Pclass(0.69), Fare(0.62) та Deck_unknown(0.72), викину Pclass та Fare\n",
    "# Age_bins корелює з Age, викину Age\n",
    "# SibSp_1 корелює з FamilySize_Small(0.68), викину SibSp_1\n",
    "# Також викину де-які інфі високоентропійні х-ки"
   ]
  },
  {
   "cell_type": "code",
   "execution_count": 53,
   "metadata": {},
   "outputs": [
    {
     "name": "stdout",
     "output_type": "stream",
     "text": []
    }
   ],
   "source": [
    "titanic.drop_irrelevant()\n",
    "titanic.df.head()"
   ]
  },
  {
   "cell_type": "code",
   "execution_count": 54,
   "metadata": {},
   "outputs": [
    {
     "name": "stdout",
     "output_type": "stream",
     "text": []
    }
   ],
   "source": [
    "testtitanic = TitanicFeatureBuilder(pd.read_csv('Titanic_test.csv'))\n",
    "testtitanic.build_by_template().head()"
   ]
  },
  {
   "cell_type": "code",
   "execution_count": 55,
   "metadata": {},
   "outputs": [
    {
     "name": "stdout",
     "output_type": "stream",
     "text": []
    }
   ],
   "source": [
    "testtitanic.df.corr(numeric_only=True) \n"
   ]
  },
  {
   "cell_type": "code",
   "execution_count": null,
   "metadata": {},
   "outputs": [],
   "source": []
  }
 ],
 "metadata": {
  "kernelspec": {
   "display_name": "Python 3",
   "language": "python",
   "name": "python3"
  },
  "language_info": {
   "codemirror_mode": {
    "name": "ipython",
    "version": 3
   },
   "file_extension": ".py",
   "mimetype": "text/x-python",
   "name": "python",
   "nbconvert_exporter": "python",
   "pygments_lexer": "ipython3",
   "version": "3.13.2"
  }
 },
 "nbformat": 4,
 "nbformat_minor": 4
}

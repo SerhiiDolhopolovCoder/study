{
 "cells": [
  {
   "cell_type": "code",
   "execution_count": null,
   "id": "8110e1f6",
   "metadata": {},
   "outputs": [],
   "source": [
    "import pandas as pd\n",
    "from sklearn.tree import DecisionTreeRegressor\n",
    "\n",
    "from model_trainer import TreeRegressorTrainer"
   ]
  },
  {
   "cell_type": "code",
   "execution_count": 2,
   "id": "563c9d4a",
   "metadata": {},
   "outputs": [],
   "source": [
    "test_df = pd.read_csv('HousePrice_test.csv')\n",
    "train_df = pd.read_csv('HousePrice_train.csv')"
   ]
  },
  {
   "cell_type": "code",
   "execution_count": null,
   "id": "6abc1f92",
   "metadata": {},
   "outputs": [
    {
     "name": "stdout",
     "output_type": "stream",
     "text": [
      "{'SalePrice'}\n"
     ]
    }
   ],
   "source": [
    "model = TreeRegressorTrainer(test_df=test_df, train_df=train_df)"
   ]
  },
  {
   "cell_type": "code",
   "execution_count": 4,
   "id": "8cd4f702",
   "metadata": {},
   "outputs": [
    {
     "name": "stdout",
     "output_type": "stream",
     "text": [
      "\n",
      "----------------------------------------------------------------------------------------------------\n",
      "\n",
      "До:\n",
      "     TRAIN:\n",
      "Nulls columns = 19\n",
      "\n",
      "     TEST:\n",
      "Nulls columns = 33\n",
      "\n",
      "----------------------------------------------------------------------------------------------------\n",
      "\n",
      "Fit\n",
      "\n",
      "----------------------------------------------------------------------------------------------------\n",
      "\n",
      "Після:\n",
      "     TRAIN:\n",
      "Nulls columns = 19\n",
      "\n",
      "     TEST:\n",
      "Nulls columns = 33\n",
      "\n",
      "----------------------------------------------------------------------------------------------------\n",
      "\n"
     ]
    }
   ],
   "source": [
    "model.fit()"
   ]
  },
  {
   "cell_type": "code",
   "execution_count": 5,
   "id": "2bdbd342",
   "metadata": {},
   "outputs": [
    {
     "name": "stdout",
     "output_type": "stream",
     "text": [
      "\n",
      "----------------------------------------------------------------------------------------------------\n",
      "\n",
      "До:\n",
      "     TRAIN:\n",
      "Nulls columns = 19\n",
      "\n",
      "     TEST:\n",
      "Nulls columns = 33\n",
      "\n",
      "----------------------------------------------------------------------------------------------------\n",
      "\n",
      "Predict\n",
      "\n",
      "----------------------------------------------------------------------------------------------------\n",
      "\n",
      "Після:\n",
      "     TRAIN:\n",
      "Nulls columns = 19\n",
      "\n",
      "     TEST:\n",
      "Nulls columns = 33\n",
      "\n",
      "----------------------------------------------------------------------------------------------------\n",
      "\n"
     ]
    }
   ],
   "source": [
    "model.predict()"
   ]
  },
  {
   "cell_type": "code",
   "execution_count": null,
   "id": "383f63cc",
   "metadata": {},
   "outputs": [],
   "source": [
    "tree = DecisionTreeRegressor()\n",
    "tree.fit(test_df, test_df['SalePrice'])\n",
    "tree.predict(test_df)"
   ]
  }
 ],
 "metadata": {
  "kernelspec": {
   "display_name": "Python 3",
   "language": "python",
   "name": "python3"
  },
  "language_info": {
   "codemirror_mode": {
    "name": "ipython",
    "version": 3
   },
   "file_extension": ".py",
   "mimetype": "text/x-python",
   "name": "python",
   "nbconvert_exporter": "python",
   "pygments_lexer": "ipython3",
   "version": "3.13.2"
  }
 },
 "nbformat": 4,
 "nbformat_minor": 5
}
